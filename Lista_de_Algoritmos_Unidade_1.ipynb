{
  "cells": [
    {
      "cell_type": "markdown",
      "metadata": {
        "colab_type": "text",
        "id": "view-in-github"
      },
      "source": [
        "<a href=\"https://colab.research.google.com/github/ViGF/algoritmos-p1/blob/main/Lista_de_Algoritmos_Unidade_1.ipynb\" target=\"_parent\"><img src=\"https://colab.research.google.com/assets/colab-badge.svg\" alt=\"Open In Colab\"/></a>"
      ]
    },
    {
      "cell_type": "markdown",
      "metadata": {
        "id": "1LLJh9kcGdEU"
      },
      "source": [
        "#1 - Tipos de Triângulos"
      ]
    },
    {
      "cell_type": "code",
      "execution_count": null,
      "metadata": {
        "id": "HtthTv3HGUFj"
      },
      "outputs": [],
      "source": [
        "lados = input().split(' ')\n",
        "lados.sort(reverse=True)\n",
        "\n",
        "ladosConvertidos = []\n",
        "for i in range(3):\n",
        "    ladosConvertidos.append(float(lados[i]))\n",
        "\n",
        "ladosConvertidos.sort(reverse=True)\n",
        "a = float(ladosConvertidos[0])\n",
        "b = float(ladosConvertidos[1])\n",
        "c = float(ladosConvertidos[2])\n",
        "\n",
        "if a >= b+c:\n",
        "    print('NAO FORMA TRIANGULO')\n",
        "elif a*a == b*b + c*c:\n",
        "    print('TRIANGULO RETANGULO')\n",
        "elif a*a > b*b + c*c:\n",
        "    print('TRIANGULO OBTUSANGULO')\n",
        "else:\n",
        "    print('TRIANGULO ACUTANGULO')\n",
        "\n",
        "if a == b or b == c:\n",
        "    if a == c:\n",
        "        print('TRIANGULO EQUILATERO')\n",
        "    else:\n",
        "        print('TRIANGULO ISOSCELES')"
      ]
    },
    {
      "cell_type": "markdown",
      "metadata": {
        "id": "ic6CtiUEGh_X"
      },
      "source": [
        "#2 - Tempo de Jogo"
      ]
    },
    {
      "cell_type": "code",
      "execution_count": 13,
      "metadata": {},
      "outputs": [
        {
          "name": "stdout",
          "output_type": "stream",
          "text": [
            "O JOGO DUROU 14 HORA(S)\n"
          ]
        }
      ],
      "source": [
        "horas = input().split(' ')\n",
        "horasConvertidas = []\n",
        "for hora in horas:\n",
        "    horasConvertidas.append(int(hora))\n",
        "\n",
        "horaInicio = horasConvertidas[0]\n",
        "horaFim = horasConvertidas[1]\n",
        "\n",
        "if horaInicio >= horaFim:\n",
        "    duracao = 24 - horaInicio + horaFim\n",
        "else:\n",
        "    duracao = horaFim - horaInicio\n",
        "\n",
        "print(f'O JOGO DUROU {duracao} HORA(S)')"
      ]
    }
  ],
  "metadata": {
    "colab": {
      "authorship_tag": "ABX9TyMVMCOHmyKv/zeySi3D+lhj",
      "include_colab_link": true,
      "provenance": []
    },
    "kernelspec": {
      "display_name": "Python 3",
      "name": "python3"
    },
    "language_info": {
      "codemirror_mode": {
        "name": "ipython",
        "version": 3
      },
      "file_extension": ".py",
      "mimetype": "text/x-python",
      "name": "python",
      "nbconvert_exporter": "python",
      "pygments_lexer": "ipython3",
      "version": "3.10.11"
    }
  },
  "nbformat": 4,
  "nbformat_minor": 0
}
