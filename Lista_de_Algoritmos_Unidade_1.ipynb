{
  "nbformat": 4,
  "nbformat_minor": 0,
  "metadata": {
    "colab": {
      "provenance": [],
      "authorship_tag": "ABX9TyMVMCOHmyKv/zeySi3D+lhj",
      "include_colab_link": true
    },
    "kernelspec": {
      "name": "python3",
      "display_name": "Python 3"
    },
    "language_info": {
      "name": "python"
    }
  },
  "cells": [
    {
      "cell_type": "markdown",
      "metadata": {
        "id": "view-in-github",
        "colab_type": "text"
      },
      "source": [
        "<a href=\"https://colab.research.google.com/github/ViGF/algoritmos-p1/blob/main/Lista_de_Algoritmos_Unidade_1.ipynb\" target=\"_parent\"><img src=\"https://colab.research.google.com/assets/colab-badge.svg\" alt=\"Open In Colab\"/></a>"
      ]
    },
    {
      "cell_type": "markdown",
      "source": [
        "#1 - Tipos de Triângulos"
      ],
      "metadata": {
        "id": "1LLJh9kcGdEU"
      }
    },
    {
      "cell_type": "code",
      "execution_count": null,
      "metadata": {
        "id": "HtthTv3HGUFj"
      },
      "outputs": [],
      "source": [
        "lados = input().split(' ')\n",
        "lados.sort(reverse=True)\n",
        "\n",
        "ladosConvertidos = []\n",
        "for i in range(3):\n",
        "    ladosConvertidos.append(float(lados[i]))\n",
        "\n",
        "ladosConvertidos.sort(reverse=True)\n",
        "a = float(ladosConvertidos[0])\n",
        "b = float(ladosConvertidos[1])\n",
        "c = float(ladosConvertidos[2])\n",
        "\n",
        "if a >= b+c:\n",
        "    print('NAO FORMA TRIANGULO')\n",
        "elif a*a == b*b + c*c:\n",
        "    print('TRIANGULO RETANGULO')\n",
        "elif a*a > b*b + c*c:\n",
        "    print('TRIANGULO OBTUSANGULO')\n",
        "else:\n",
        "    print('TRIANGULO ACUTANGULO')\n",
        "\n",
        "if a == b or b == c:\n",
        "    if a == c:\n",
        "        print('TRIANGULO EQUILATERO')\n",
        "    else:\n",
        "        print('TRIANGULO ISOSCELES')"
      ]
    },
    {
      "cell_type": "markdown",
      "source": [
        "#2 - Tempo de Jogo"
      ],
      "metadata": {
        "id": "ic6CtiUEGh_X"
      }
    }
  ]
}